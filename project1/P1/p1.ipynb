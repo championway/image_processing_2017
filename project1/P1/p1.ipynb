{
 "cells": [
  {
   "cell_type": "code",
   "execution_count": 18,
   "metadata": {
    "collapsed": false
   },
   "outputs": [],
   "source": [
    "import cv2\n",
    "import numpy as np\n",
    "from matplotlib import pyplot as plt\n",
    "import math\n",
    "import time\n",
    "\n",
    "img1 = cv2.imread(\"image/problem1.bmp\",cv2.CV_LOAD_IMAGE_UNCHANGED)    #Load image 1\n",
    "\n",
    "height1, width1 = img1.shape[:2]   "
   ]
  },
  {
   "cell_type": "code",
   "execution_count": 69,
   "metadata": {
    "collapsed": false
   },
   "outputs": [],
   "source": [
    "def mapping(img,out,height,width,adj):\n",
    "    for y in range(0,height):\n",
    "        for x in range(0,width):\n",
    "            if img[y,x] == 20:\n",
    "                out[y,x] = 255\n",
    "            elif img[y,x] == 150:\n",
    "                out[y,x] = 255\n",
    "            elif img[y,x] == 255:\n",
    "                out[y,x] = 255\n",
    "            elif img[y,x] == 0:\n",
    "                out[y,x] = 0\n",
    "            elif img[y,x] == 155:\n",
    "                out[y,x] = 0\n",
    "            elif img[y,x] == 250:\n",
    "                out[y,x] = 0\n",
    "            else:\n",
    "                out[y,x] = 150\n",
    "    for y in range(1,height-1):\n",
    "        for x in range(1,width-1):\n",
    "            if(out[y][x] != out[y-1][x] and out[y][x] != out[y][x-1]  and out[y][x] != out[y][x+1]  and out[y][x] != out[y+1][x]):\n",
    "                out[y][x] = 150\n",
    "                if(adj == 8 and out[y][x] != out[y-1][x-1] and out[y][x] != out[y-1][x+1] and out[y][x] != out[y+1][x-1] and out[y][x] != out[y+1][x+1]):\n",
    "                    out[y][x] = 150"
   ]
  },
  {
   "cell_type": "code",
   "execution_count": 70,
   "metadata": {
    "collapsed": false
   },
   "outputs": [
    {
     "data": {
      "image/png": "[encoded data removed]",
      "text/plain": [
       "<matplotlib.figure.Figure at 0x7fac00cf3fd0>"
      ]
     },
     "metadata": {},
     "output_type": "display_data"
    }
   ],
   "source": [
    "out4 = np.zeros((height1,width1))\n",
    "out8 = np.zeros((height1,width1))\n",
    "\n",
    "mapping(img1,out4,height1,width1,4)\n",
    "mapping(img1,out8,height1,width1,8)\n",
    "\n",
    "plt.subplot(121),plt.title('out4')\n",
    "plt.imshow(out4,cmap = 'gray')\n",
    "\n",
    "plt.subplot(122),plt.title('out8')\n",
    "plt.imshow(out8,cmap = 'gray')\n",
    "\n",
    "plt.show()"
   ]
  },
  {
   "cell_type": "code",
   "execution_count": 62,
   "metadata": {
    "collapsed": true
   },
   "outputs": [],
   "source": [
    "plt.subplot(111),plt.title('4_adj')\n",
    "plt.imshow(out4,cmap = 'gray')\n",
    "plt.savefig('p1_4adj.png')\n",
    "\n",
    "plt.subplot(111),plt.title('8_adj')\n",
    "plt.imshow(out8,cmap = 'gray')\n",
    "plt.savefig('p1_8adj.png')"
   ]
  },
  {
   "cell_type": "code",
   "execution_count": null,
   "metadata": {
    "collapsed": true
   },
   "outputs": [],
   "source": []
  }
 ],
 "metadata": {
  "kernelspec": {
   "display_name": "Python 2",
   "language": "python",
   "name": "python2"
  },
  "language_info": {
   "codemirror_mode": {
    "name": "ipython",
    "version": 2
   },
   "file_extension": ".py",
   "mimetype": "text/x-python",
   "name": "python",
   "nbconvert_exporter": "python",
   "pygments_lexer": "ipython2",
   "version": "2.7.13"
  }
 },
 "nbformat": 4,
 "nbformat_minor": 2
}
